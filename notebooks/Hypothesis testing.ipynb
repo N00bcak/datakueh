{
 "cells": [
  {
   "cell_type": "markdown",
   "metadata": {},
   "source": [
    "### Two-sample z-test for means"
   ]
  },
  {
   "cell_type": "code",
   "execution_count": 1,
   "metadata": {},
   "outputs": [
    {
     "data": {
      "text/html": [
       "3.52502079892874"
      ],
      "text/latex": [
       "3.52502079892874"
      ],
      "text/markdown": [
       "3.52502079892874"
      ],
      "text/plain": [
       "[1] 3.525021"
      ]
     },
     "metadata": {},
     "output_type": "display_data"
    }
   ],
   "source": [
    "z.test2sam = function(ma, mb, na, nb, var.a, var.b){\n",
    "  zeta = (ma-mb) / (sqrt(var.a/na + var.b/nb))\n",
    "  return(zeta)\n",
    "}\n",
    "\n",
    "ma = 3.77\n",
    "mb = 3.31\n",
    "na = 109\n",
    "nb = 222\n",
    "var.a = 1.015^2\n",
    "var.b = 1.297^2\n",
    "z.test2sam(ma, mb, na, nb, var.a, var.b)  \n"
   ]
  },
  {
   "cell_type": "markdown",
   "metadata": {},
   "source": [
    "### Two-sample t-test for means"
   ]
  },
  {
   "cell_type": "code",
   "execution_count": 2,
   "metadata": {
    "scrolled": true
   },
   "outputs": [
    {
     "data": {
      "text/html": [
       "<ol class=list-inline>\n",
       "\t<li>16.764949541206</li>\n",
       "\t<li>-3.76274750435845</li>\n",
       "\t<li>14.20126652843</li>\n",
       "\t<li>8.61470172981951</li>\n",
       "\t<li>11.1984954668188</li>\n",
       "</ol>\n"
      ],
      "text/latex": [
       "\\begin{enumerate*}\n",
       "\\item 16.764949541206\n",
       "\\item -3.76274750435845\n",
       "\\item 14.20126652843\n",
       "\\item 8.61470172981951\n",
       "\\item 11.1984954668188\n",
       "\\end{enumerate*}\n"
      ],
      "text/markdown": [
       "1. 16.764949541206\n",
       "2. -3.76274750435845\n",
       "3. 14.20126652843\n",
       "4. 8.61470172981951\n",
       "5. 11.1984954668188\n",
       "\n",
       "\n"
      ],
      "text/plain": [
       "[1] 16.764950 -3.762748 14.201267  8.614702 11.198495"
      ]
     },
     "metadata": {},
     "output_type": "display_data"
    },
    {
     "data": {
      "text/html": [
       "<ol class=list-inline>\n",
       "\t<li>-0.482778497486517</li>\n",
       "\t<li>-6.32845239850758</li>\n",
       "\t<li>0.85605267260796</li>\n",
       "\t<li>-6.93701758319222</li>\n",
       "\t<li>11.0118789907412</li>\n",
       "</ol>\n"
      ],
      "text/latex": [
       "\\begin{enumerate*}\n",
       "\\item -0.482778497486517\n",
       "\\item -6.32845239850758\n",
       "\\item 0.85605267260796\n",
       "\\item -6.93701758319222\n",
       "\\item 11.0118789907412\n",
       "\\end{enumerate*}\n"
      ],
      "text/markdown": [
       "1. -0.482778497486517\n",
       "2. -6.32845239850758\n",
       "3. 0.85605267260796\n",
       "4. -6.93701758319222\n",
       "5. 11.0118789907412\n",
       "\n",
       "\n"
      ],
      "text/plain": [
       "[1] -0.4827785 -6.3284524  0.8560527 -6.9370176 11.0118790"
      ]
     },
     "metadata": {},
     "output_type": "display_data"
    },
    {
     "data": {
      "text/plain": [
       "\n",
       "\tTwo Sample t-test\n",
       "\n",
       "data:  y1 and y2\n",
       "t = 1.5376, df = 198, p-value = 0.1257\n",
       "alternative hypothesis: true difference in means is not equal to 0\n",
       "95 percent confidence interval:\n",
       " -0.6699689  5.4127586\n",
       "sample estimates:\n",
       "mean of x mean of y \n",
       " 4.667654  2.296259 \n"
      ]
     },
     "metadata": {},
     "output_type": "display_data"
    }
   ],
   "source": [
    "y1 <- rnorm(100, 3, 10)\n",
    "y2 <- rnorm(100, 4, 12)\n",
    "y1[1:5]\n",
    "y2[1:5]\n",
    "t.test(y1, y2, var.equal=TRUE)"
   ]
  },
  {
   "cell_type": "code",
   "execution_count": 3,
   "metadata": {},
   "outputs": [
    {
     "data": {
      "text/plain": [
       "\n",
       "\tWelch Two Sample t-test\n",
       "\n",
       "data:  y1 and y2\n",
       "t = 1.5376, df = 190.41, p-value = 0.1258\n",
       "alternative hypothesis: true difference in means is not equal to 0\n",
       "95 percent confidence interval:\n",
       " -0.6707142  5.4135039\n",
       "sample estimates:\n",
       "mean of x mean of y \n",
       " 4.667654  2.296259 \n"
      ]
     },
     "metadata": {},
     "output_type": "display_data"
    }
   ],
   "source": [
    "t.test(y1, y2)"
   ]
  },
  {
   "cell_type": "markdown",
   "metadata": {},
   "source": [
    "### Paired t-test for means"
   ]
  },
  {
   "cell_type": "code",
   "execution_count": 4,
   "metadata": {},
   "outputs": [
    {
     "data": {
      "text/plain": [
       "\n",
       "\tPaired t-test\n",
       "\n",
       "data:  y1 and y2\n",
       "t = 1.0006, df = 99, p-value = 0.3194\n",
       "alternative hypothesis: true difference in means is not equal to 0\n",
       "95 percent confidence interval:\n",
       " -1.385354  4.204145\n",
       "sample estimates:\n",
       "mean of the differences \n",
       "               1.409395 \n"
      ]
     },
     "metadata": {},
     "output_type": "display_data"
    }
   ],
   "source": [
    "y1 <- rnorm(100, 3, 10)\n",
    "y2 <- rnorm(100, 3.5, 10)\n",
    "t.test(y1, y2, paired = TRUE)"
   ]
  },
  {
   "cell_type": "code",
   "execution_count": 5,
   "metadata": {},
   "outputs": [
    {
     "data": {
      "text/html": [
       "-1.4093953720923"
      ],
      "text/latex": [
       "-1.4093953720923"
      ],
      "text/markdown": [
       "-1.4093953720923"
      ],
      "text/plain": [
       "[1] -1.409395"
      ]
     },
     "metadata": {},
     "output_type": "display_data"
    }
   ],
   "source": [
    "mean(y2-y1)"
   ]
  },
  {
   "cell_type": "code",
   "execution_count": 6,
   "metadata": {},
   "outputs": [
    {
     "data": {
      "text/html": [
       "198.384393747523"
      ],
      "text/latex": [
       "198.384393747523"
      ],
      "text/markdown": [
       "198.384393747523"
      ],
      "text/plain": [
       "[1] 198.3844"
      ]
     },
     "metadata": {},
     "output_type": "display_data"
    }
   ],
   "source": [
    "var(y2-y1)"
   ]
  },
  {
   "cell_type": "code",
   "execution_count": 7,
   "metadata": {
    "scrolled": true
   },
   "outputs": [
    {
     "data": {
      "text/html": [
       "-0.0710436615233956"
      ],
      "text/latex": [
       "-0.0710436615233956"
      ],
      "text/markdown": [
       "-0.0710436615233956"
      ],
      "text/plain": [
       "[1] -0.07104366"
      ]
     },
     "metadata": {},
     "output_type": "display_data"
    }
   ],
   "source": [
    "mean = mean(y2-y1)\n",
    "n = 100\n",
    "sed = var(y2-y1)/sqrt(n)\n",
    "t = mean/sed\n",
    "t\n",
    "# t-statistic at 95% confidence interval for n=100 is 1.984"
   ]
  },
  {
   "cell_type": "markdown",
   "metadata": {},
   "source": [
    "### Two-sample chi-square test for proportions"
   ]
  },
  {
   "cell_type": "code",
   "execution_count": 8,
   "metadata": {},
   "outputs": [
    {
     "data": {
      "text/html": [
       "<table>\n",
       "<thead><tr><th></th><th scope=col>1</th><th scope=col>2</th></tr></thead>\n",
       "<tbody>\n",
       "\t<tr><th scope=row>Y</th><td>27</td><td>10</td></tr>\n",
       "\t<tr><th scope=row>N</th><td>15</td><td>11</td></tr>\n",
       "</tbody>\n",
       "</table>\n"
      ],
      "text/latex": [
       "\\begin{tabular}{r|ll}\n",
       "  & 1 & 2\\\\\n",
       "\\hline\n",
       "\tY & 27 & 10\\\\\n",
       "\tN & 15 & 11\\\\\n",
       "\\end{tabular}\n"
      ],
      "text/markdown": [
       "\n",
       "| <!--/--> | 1 | 2 | \n",
       "|---|---|\n",
       "| Y | 27 | 10 | \n",
       "| N | 15 | 11 | \n",
       "\n",
       "\n"
      ],
      "text/plain": [
       "      Type\n",
       "status 1  2 \n",
       "     Y 27 10\n",
       "     N 15 11"
      ]
     },
     "metadata": {},
     "output_type": "display_data"
    },
    {
     "data": {
      "text/plain": [
       "\n",
       "\tPearson's Chi-squared test with Yates' continuity correction\n",
       "\n",
       "data:  data\n",
       "X-squared = 0.99051, df = 1, p-value = 0.3196\n"
      ]
     },
     "metadata": {},
     "output_type": "display_data"
    },
    {
     "data": {
      "image/png": "[encoded data removed]",
      "text/plain": [
       "plot without title"
      ]
     },
     "metadata": {},
     "output_type": "display_data"
    }
   ],
   "source": [
    "freqs = c(27,15,10,11)\n",
    "data = matrix(freqs, nrow=2)\n",
    "dimnames(data) = list(\"status\"=c(\"Y\",\"N\"), \"Type\"=c(\"1\",\"2\"))\n",
    "\n",
    "data\n",
    "\n",
    "result <- chisq.test(data)\n",
    "result\n",
    "\n",
    "options(repr.plot.width=4, repr.plot.height=4)\n",
    "toplot<- as.matrix(rbind(data[1,],data[2,] ))\n",
    "barplot(toplot, beside = TRUE, col = c(\"blue\", \"orange\"), las=2)"
   ]
  },
  {
   "cell_type": "code",
   "execution_count": 9,
   "metadata": {
    "scrolled": true
   },
   "outputs": [
    {
     "data": {
      "text/plain": [
       "\n",
       "\t2-sample test for equality of proportions with continuity correction\n",
       "\n",
       "data:  c(27, 10) out of c(27 + 15, 10 + 11)\n",
       "X-squared = 0.99051, df = 1, p-value = 0.3196\n",
       "alternative hypothesis: two.sided\n",
       "95 percent confidence interval:\n",
       " -0.1271700  0.4605034\n",
       "sample estimates:\n",
       "   prop 1    prop 2 \n",
       "0.6428571 0.4761905 \n"
      ]
     },
     "metadata": {},
     "output_type": "display_data"
    }
   ],
   "source": [
    "# alternative function\n",
    "prop.test(x = c(27, 10), n = c(27+15, 10+11))"
   ]
  },
  {
   "cell_type": "markdown",
   "metadata": {},
   "source": [
    "### Three-sample chi-square test for proportions"
   ]
  },
  {
   "cell_type": "code",
   "execution_count": 10,
   "metadata": {},
   "outputs": [
    {
     "data": {
      "text/html": [
       "<table>\n",
       "<thead><tr><th></th><th scope=col>1</th><th scope=col>2</th><th scope=col>3</th></tr></thead>\n",
       "<tbody>\n",
       "\t<tr><th scope=row>Y</th><td>27</td><td>10</td><td>20</td></tr>\n",
       "\t<tr><th scope=row>N</th><td>15</td><td>11</td><td>25</td></tr>\n",
       "</tbody>\n",
       "</table>\n"
      ],
      "text/latex": [
       "\\begin{tabular}{r|lll}\n",
       "  & 1 & 2 & 3\\\\\n",
       "\\hline\n",
       "\tY & 27 & 10 & 20\\\\\n",
       "\tN & 15 & 11 & 25\\\\\n",
       "\\end{tabular}\n"
      ],
      "text/markdown": [
       "\n",
       "| <!--/--> | 1 | 2 | 3 | \n",
       "|---|---|\n",
       "| Y | 27 | 10 | 20 | \n",
       "| N | 15 | 11 | 25 | \n",
       "\n",
       "\n"
      ],
      "text/plain": [
       "      Type\n",
       "status 1  2  3 \n",
       "     Y 27 10 20\n",
       "     N 15 11 25"
      ]
     },
     "metadata": {},
     "output_type": "display_data"
    },
    {
     "data": {
      "text/plain": [
       "\n",
       "\tPearson's Chi-squared test\n",
       "\n",
       "data:  data\n",
       "X-squared = 3.7099, df = 2, p-value = 0.1565\n"
      ]
     },
     "metadata": {},
     "output_type": "display_data"
    }
   ],
   "source": [
    "freqs = c(27,15,10,11,20,25)\n",
    "data = matrix(freqs, nrow=2)\n",
    "dimnames(data) = list(\"status\"=c(\"Y\",\"N\"), \"Type\"=c(\"1\",\"2\",\"3\"))\n",
    "\n",
    "data\n",
    "\n",
    "result <- chisq.test(data)\n",
    "result"
   ]
  },
  {
   "cell_type": "code",
   "execution_count": 11,
   "metadata": {},
   "outputs": [
    {
     "data": {
      "text/plain": [
       "\n",
       "\t3-sample test for equality of proportions without continuity\n",
       "\tcorrection\n",
       "\n",
       "data:  c(27, 10, 20) out of c(27 + 15, 10 + 11, 45)\n",
       "X-squared = 3.7099, df = 2, p-value = 0.1565\n",
       "alternative hypothesis: two.sided\n",
       "sample estimates:\n",
       "   prop 1    prop 2    prop 3 \n",
       "0.6428571 0.4761905 0.4444444 \n"
      ]
     },
     "metadata": {},
     "output_type": "display_data"
    }
   ],
   "source": [
    "prop.test(x = c(27, 10, 20), n = c(27+15, 10+11, 45))"
   ]
  },
  {
   "cell_type": "markdown",
   "metadata": {},
   "source": [
    "#### Reference: \n",
    "https://www.statmethods.net/stats/ttest.html  \n",
    "http://www.stat.columbia.edu/~martin/W2024/R2.pdf  \n",
    "http://www.itl.nist.gov/div898/handbook/eda/section3/eda3672.htm (T-statistic table)"
   ]
  }
 ],
 "metadata": {
  "kernelspec": {
   "display_name": "R 3.3",
   "language": "R",
   "name": "ir33"
  },
  "language_info": {
   "codemirror_mode": "r",
   "file_extension": ".r",
   "mimetype": "text/x-r-source",
   "name": "R",
   "pygments_lexer": "r",
   "version": "3.3.1"
  }
 },
 "nbformat": 4,
 "nbformat_minor": 2
}
